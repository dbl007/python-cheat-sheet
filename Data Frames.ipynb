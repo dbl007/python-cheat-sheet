{
 "cells": [
  {
   "cell_type": "code",
   "execution_count": 7,
   "metadata": {},
   "outputs": [],
   "source": [
    "import pandas as pd\n",
    "import numpy as np\n",
    "from IPython.display import display"
   ]
  },
  {
   "cell_type": "markdown",
   "metadata": {},
   "source": [
    "## Removing NA Values"
   ]
  },
  {
   "cell_type": "code",
   "execution_count": 30,
   "metadata": {},
   "outputs": [
    {
     "name": "stdout",
     "output_type": "stream",
     "text": [
      "Original:\n",
      "\n",
      "   first initial   last\n",
      "0  Matt       H  Mazur\n",
      "1   Eli     NaN  Smith\n",
      "2   Tom       S    NaN\n",
      "\n",
      "Removing all rows with NA:\n",
      "\n",
      "   first initial   last\n",
      "0  Matt       H  Mazur\n",
      "\n",
      "Removing just last names with NA:\n",
      "\n",
      "   first initial   last\n",
      "0  Matt       H  Mazur\n",
      "1   Eli     NaN  Smith\n",
      "\n",
      "Removing all columns with NA:\n",
      "\n",
      "   first\n",
      "0  Matt\n",
      "1   Eli\n",
      "2   Tom\n"
     ]
    }
   ],
   "source": [
    "df = pd.DataFrame({\n",
    "    \"first\": [\"Matt\", \"Eli\", \"Tom\"],\n",
    "    \"initial\": [\"H\", np.nan, \"S\"],\n",
    "    \"last\": [\"Mazur\", \"Smith\", np.nan]\n",
    "})\n",
    "\n",
    "print(\"Original:\\n\\n\", df)\n",
    "print(\"\\nRemoving all rows with NA:\\n\\n\", df.dropna())\n",
    "print(\"\\nRemoving just last names with NA:\\n\\n\", df.dropna(subset=[\"last\"]))\n",
    "print(\"\\nRemoving all columns with NA:\\n\\n\", df.dropna(axis=1))"
   ]
  }
 ],
 "metadata": {
  "kernelspec": {
   "display_name": "Python 3",
   "language": "python",
   "name": "python3"
  },
  "language_info": {
   "codemirror_mode": {
    "name": "ipython",
    "version": 3
   },
   "file_extension": ".py",
   "mimetype": "text/x-python",
   "name": "python",
   "nbconvert_exporter": "python",
   "pygments_lexer": "ipython3",
   "version": "3.8.2"
  }
 },
 "nbformat": 4,
 "nbformat_minor": 4
}
